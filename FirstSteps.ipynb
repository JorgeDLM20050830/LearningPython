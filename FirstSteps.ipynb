{
 "cells": [
  {
   "cell_type": "markdown",
   "metadata": {},
   "source": [
    "# Basic Python\n"
   ]
  },
  {
   "cell_type": "markdown",
   "metadata": {},
   "source": [
    "## 0. What you will learn\n",
    "\n",
    "We want to eventually end up with the code shown below, which leads to a plot of unemployment rates in multiple American states. This example exercises all basic python concepts for data analysis..if you understand it you are golden!\n",
    "\n",
    "Here is what the unemployment data looks like:"
   ]
  },
  {
   "cell_type": "markdown",
   "metadata": {},
   "source": [
    "\n",
    "```\n",
    "DATE,FLUR\n",
    "1976-01-01,9.7\n",
    "1976-02-01,9.7\n",
    "1976-03-01,9.6\n",
    "1976-04-01,9.5\n",
    "1976-05-01,9.3\n",
    "1976-06-01,9.2\n",
    "1976-07-01,9.1\n",
    "1976-08-01,9.1\n",
    "1976-09-01,9.1\n",
    "1976-10-01,9.1\n",
    "1976-11-01,9.1\n",
    "1976-12-01,9.1\n",
    "1977-01-01,9.0\n",
    "```\n",
    "\n",
    "...And here is the code..."
   ]
  },
  {
   "cell_type": "code",
   "execution_count": null,
   "metadata": {},
   "outputs": [],
   "source": [
    "# various imports of libraries\n",
    "\n",
    "import numpy as np\n",
    "import pandas as pd\n",
    "import matplotlib.pyplot as plt\n",
    "\n",
    "# ask matplotlib to plot in notebooks\n",
    "%matplotlib inline\n",
    "\n",
    "# setting up plot sizes\n",
    "width_inches = 9\n",
    "subplot_height_inches = 2\n",
    "\n",
    "# where is our data?\n",
    "baseurl = \"https://raw.githubusercontent.com/univai-ghf/ghfmedia/main/\"\n",
    "\n",
    "# defining a function to load and clean unemployment data\n",
    "def get_unemployment_data(state_abbrev):\n",
    "    # fetch and read csv file into a dataframe\n",
    "    data = pd.read_csv(baseurl+\"data/\"+state_abbrev+\"UR.csv\")\n",
    "    # convert date to a python datetime object\n",
    "    data['DATE'] = pd.to_datetime(data['DATE'])\n",
    "    return data\n",
    "\n",
    "# creating a dictionary the hold the data, with\n",
    "# the lookup keys being the state abbreviations\n",
    "states = ['AL', 'TN', 'TX', 'NY', 'CA']\n",
    "state_data=dict()\n",
    "for abbrev in states:\n",
    "    state_data[abbrev] = get_unemployment_data(abbrev)\n",
    "\n",
    "# plotting the data\n",
    "\n",
    "# create as many subplots as we have states\n",
    "fig, ax = plt.subplots(nrows=len(states),\n",
    "                       figsize = (width_inches, subplot_height_inches*len(states)))\n",
    "\n",
    "counter = 0\n",
    "for state_abbrev in states:\n",
    "    # get daraframe from dictionary\n",
    "    data = state_data[state_abbrev]\n",
    "    # plot the data\n",
    "    ax[counter].plot(data['DATE'], data[state_abbrev+'UR'])\n",
    "    # label which state it is\n",
    "    ax[counter].set_ylabel(state_abbrev)\n",
    "    counter = counter + 1\n",
    "# Year label only below last subplot\n",
    "ax[4].set_xlabel(\"Year\")\n",
    "\n",
    "# title only on first subplot\n",
    "ax[0].set_title(\"Percentage Un-employment\");"
   ]
  },
  {
   "cell_type": "markdown",
   "metadata": {},
   "source": [
    "## 1. Getting Started\n",
    "\n",
    "Lets start at the very beginning. You can use Python as a calculator. Lets do some arithmetic in Python."
   ]
  },
  {
   "cell_type": "markdown",
   "metadata": {},
   "source": [
    "### Arithmetic Operators"
   ]
  },
  {
   "cell_type": "markdown",
   "metadata": {},
   "source": [
    "![](https://github.com/hult-cm3-rahul/LearningPython/raw/main/images/calculator.png)"
   ]
  },
  {
   "cell_type": "code",
   "execution_count": null,
   "metadata": {},
   "outputs": [],
   "source": [
    "1 + 1"
   ]
  },
  {
   "cell_type": "code",
   "execution_count": null,
   "metadata": {},
   "outputs": [],
   "source": [
    "2**10 # 2 to the power of 10"
   ]
  },
  {
   "cell_type": "code",
   "execution_count": null,
   "metadata": {},
   "outputs": [],
   "source": [
    "5/2"
   ]
  },
  {
   "cell_type": "code",
   "execution_count": null,
   "metadata": {},
   "outputs": [],
   "source": [
    "5//2 # integer division"
   ]
  },
  {
   "cell_type": "code",
   "execution_count": null,
   "metadata": {},
   "outputs": [],
   "source": [
    "5 % 2 # get the remainder"
   ]
  },
  {
   "cell_type": "markdown",
   "metadata": {},
   "source": [
    "### Variables\n",
    "\n",
    "Variables are labels for values\n",
    "\n",
    "- Start with a letter or underscore\n",
    "- Can contain only alpha-numeric characters and underscore\n",
    "- Are case sensitive"
   ]
  },
  {
   "cell_type": "code",
   "execution_count": null,
   "metadata": {},
   "outputs": [],
   "source": [
    "Var = \"hello\" # CANT DO THIS 9variable = \"hello\"\n",
    "Var"
   ]
  },
  {
   "cell_type": "markdown",
   "metadata": {},
   "source": [
    "What happened above? In the computer's memory, a location was found, and then filled with the word \"hello\". Then a variable Var was created and was used to label this memory location.\n",
    "\n",
    "![](https://github.com/hult-cm3-rahul/LearningPython/raw/main/images/labelmem.jpg)\n",
    "\n",
    "A variable is literally a label. You can think of it as a post-it, or sticky note, or a pointer. This is an abstraction which works.\n",
    "\n",
    "Do not think of it as a box in which a value is stored. This is an abstraction that does not work.\n",
    "\n",
    "Lets see why a bit later...\n",
    "\n"
   ]
  },
  {
   "cell_type": "markdown",
   "metadata": {},
   "source": [
    "### Types\n",
    "\n",
    "Python is a **typed** language. That is, values in Python have types. The most general type is `Object`. But there are more specific ones, and you can define your own.\n",
    "\n",
    "Variables can point to values of different types. See below:"
   ]
  },
  {
   "cell_type": "code",
   "execution_count": null,
   "metadata": {},
   "outputs": [],
   "source": [
    "var_integer = 7\n",
    "print (\"INTEGER\", var_integer, type(var_integer))\n",
    "var_float = 7.01\n",
    "print (\"FLOAT\", var_float, type(var_float))\n",
    "var_string = \"Hello World!\"\n",
    "print (\"STRING\", var_string, type(var_string))\n",
    "var_boolean = True\n",
    "print (\"BOOLEAN\", var_boolean, type(var_boolean))"
   ]
  },
  {
   "cell_type": "markdown",
   "metadata": {},
   "source": [
    "Python, as you might expect, also has the concept of a list:"
   ]
  },
  {
   "cell_type": "code",
   "execution_count": null,
   "metadata": {},
   "outputs": [],
   "source": [
    "mylist = [1, 2, 3, 4, 5, 6, 7, 8]\n",
    "type(mylist)"
   ]
  },
  {
   "cell_type": "code",
   "execution_count": null,
   "metadata": {},
   "outputs": [],
   "source": [
    "for item in mylist:\n",
    "    print(item, type(item))"
   ]
  },
  {
   "cell_type": "markdown",
   "metadata": {},
   "source": [
    "Notice the indentation: python dispenses with brackets and uses a colon and indentation (here 4 spaces) to denote that the `print` statement runs in the context of our list.\n",
    "\n",
    "You can also get the length of the list:"
   ]
  },
  {
   "cell_type": "code",
   "execution_count": null,
   "metadata": {},
   "outputs": [],
   "source": [
    "len(mylist)"
   ]
  },
  {
   "cell_type": "markdown",
   "metadata": {},
   "source": [
    "Lists have indexes. Like elevators in other countries, python indexes starting with the \"ground floor\", or index 0. So the index of the first element is 0, the second is 1, and so on. By convention, the index -1 is the last element in the list, -2 the second-last and so on."
   ]
  },
  {
   "cell_type": "code",
   "execution_count": null,
   "metadata": {},
   "outputs": [],
   "source": [
    "anotherlist = [15, 89, 33, 56]\n",
    "anotherlist[0]"
   ]
  },
  {
   "cell_type": "code",
   "execution_count": null,
   "metadata": {},
   "outputs": [],
   "source": [
    "anotherlist[1]"
   ]
  },
  {
   "cell_type": "code",
   "execution_count": null,
   "metadata": {},
   "outputs": [],
   "source": [
    "anotherlist[-1]"
   ]
  },
  {
   "cell_type": "code",
   "execution_count": null,
   "metadata": {},
   "outputs": [],
   "source": [
    "anotherlist[-2]"
   ]
  },
  {
   "cell_type": "markdown",
   "metadata": {},
   "source": [
    "### Comparisons\n",
    "\n",
    "Python has comparison operators, which can be used to make decisions:"
   ]
  },
  {
   "cell_type": "markdown",
   "metadata": {},
   "source": [
    "![](https://github.com/hult-cm3-rahul/LearningPython/raw/main/images/condslide.png)"
   ]
  },
  {
   "cell_type": "code",
   "execution_count": null,
   "metadata": {},
   "outputs": [],
   "source": [
    "a = \"hgi\"\n",
    "b = \"hello\"\n",
    "c = \"hi\"\n",
    "d = \"hello\"\n",
    "print (a==c)\n",
    "print (b==d)\n",
    "var1 = 5\n",
    "var2 = 3\n",
    "print (var1 < var2)"
   ]
  },
  {
   "cell_type": "markdown",
   "metadata": {},
   "source": [
    "The first comparison compares the contents of the memory for a and c and finds that both are different, giving us False. Conversely, the second comparison gives us True. We can utilize such comparisons in \"decision statements\". The third is a numerical comparison. The fact that these comparisons give us a boolean value can be used in the decision-making:"
   ]
  },
  {
   "cell_type": "code",
   "execution_count": null,
   "metadata": {},
   "outputs": [],
   "source": [
    "var1 = 5\n",
    "var2 = 10\n",
    "\n",
    "if (var1 == var2):\n",
    "    print(\"The values are equal\")\n",
    "elif (var1 < var2):\n",
    "    print(\"First variable is lesser than the second variable\")\n",
    "else:\n",
    "    print(\"Second variable is lesser than the first variable\")"
   ]
  },
  {
   "cell_type": "markdown",
   "metadata": {},
   "source": [
    "Notice again how python dispenses with brackets, replacing them by a colon and an indented next line. The indentation tells us that the code below runs when the condition holds. Python uses this colon-indentation for many things, such as in for loops for iteration, for conditionals, for function and class definition, etc.\n",
    "\n",
    "Indeed you can nest conditionals inside iteration, with this colon-indentation syntax, to make very readable and usable code!"
   ]
  },
  {
   "cell_type": "code",
   "execution_count": null,
   "metadata": {},
   "outputs": [],
   "source": [
    "mylist = [1, 2, 3, 4, 5, 6, 7, 8]\n",
    "for ele in mylist:\n",
    "    if ele % 2 == 0: #even numbers only\n",
    "        print(ele)"
   ]
  },
  {
   "cell_type": "markdown",
   "metadata": {},
   "source": [
    "Introducing lists can now help us understand why we should think of variables as post-its pointing to memory locations...\n",
    "\n",
    "![](https://github.com/hult-cm3-rahul/LearningPython/raw/main/images/stricksnotboxes.png)"
   ]
  },
  {
   "cell_type": "code",
   "execution_count": null,
   "metadata": {},
   "outputs": [],
   "source": [
    "alist = [1, 2, \"hello\"]\n",
    "blist = alist # is this a copy into a new memory location or a new post it to the old memory location\n",
    "print(alist, blist)"
   ]
  },
  {
   "cell_type": "code",
   "execution_count": null,
   "metadata": {},
   "outputs": [],
   "source": [
    "# can you think of an experiment to figure this out?\n",
    "# your code here"
   ]
  },
  {
   "cell_type": "code",
   "execution_count": null,
   "metadata": {},
   "outputs": [],
   "source": [
    "id(alist),id(blist)"
   ]
  },
  {
   "cell_type": "code",
   "execution_count": null,
   "metadata": {},
   "outputs": [],
   "source": []
  }
 ],
 "metadata": {
  "kernelspec": {
   "display_name": "ml1-arm64",
   "language": "python",
   "name": "ml1-arm64"
  }
 },
 "nbformat": 4,
 "nbformat_minor": 4
}
